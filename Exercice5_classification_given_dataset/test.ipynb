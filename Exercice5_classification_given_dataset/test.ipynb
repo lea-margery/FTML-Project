{
 "cells": [
  {
   "cell_type": "code",
   "execution_count": 159,
   "metadata": {},
   "outputs": [],
   "source": [
    "import numpy as np\n",
    "import os\n",
    "import sklearn.linear_model\n",
    "import sklearn.metrics\n",
    "import optuna\n",
    "import sklearn.ensemble\n",
    "import sklearn.pipeline\n",
    "import sklearn.preprocessing\n",
    "from sklearn.svm import SVC\n",
    "\n",
    "from sklearn.metrics import accuracy_score, classification_report, confusion_matrix\n",
    "import pandas as pd\n",
    "from sklearn.preprocessing import StandardScaler\n",
    "\n",
    "from sklearn.decomposition import PCA\n",
    "import matplotlib.pyplot as plt"
   ]
  },
  {
   "cell_type": "markdown",
   "metadata": {},
   "source": [
    "### Loading Data"
   ]
  },
  {
   "cell_type": "code",
   "execution_count": 160,
   "metadata": {},
   "outputs": [
    {
     "data": {
      "text/plain": [
       "((500, 30), (500,), (500, 30), (500,))"
      ]
     },
     "execution_count": 160,
     "metadata": {},
     "output_type": "execute_result"
    }
   ],
   "source": [
    "PATH_DATA = \"data/\"\n",
    "X_train = np.load(os.path.join(PATH_DATA, \"X_train.npy\"))\n",
    "X_test = np.load(os.path.join(PATH_DATA, \"X_test.npy\"))\n",
    "y_train = np.load(os.path.join(PATH_DATA, \"y_train.npy\"))\n",
    "y_test = np.load(os.path.join(PATH_DATA, \"y_test.npy\"))\n",
    "\n",
    "X_train.shape, y_test.shape, X_test.shape, y_test.shape"
   ]
  },
  {
   "cell_type": "markdown",
   "metadata": {},
   "source": [
    "### Visualizing Data"
   ]
  },
  {
   "cell_type": "code",
   "execution_count": null,
   "metadata": {},
   "outputs": [],
   "source": []
  },
  {
   "cell_type": "markdown",
   "metadata": {},
   "source": [
    "### Model"
   ]
  },
  {
   "cell_type": "code",
   "execution_count": 161,
   "metadata": {},
   "outputs": [
    {
     "name": "stdout",
     "output_type": "stream",
     "text": [
      "              precision    recall  f1-score   support\n",
      "\n",
      "           0       0.87      0.74      0.80       201\n",
      "           1       0.84      0.93      0.88       299\n",
      "\n",
      "    accuracy                           0.85       500\n",
      "   macro avg       0.85      0.83      0.84       500\n",
      "weighted avg       0.85      0.85      0.85       500\n",
      "\n"
     ]
    }
   ],
   "source": [
    "svm_classifier = SVC(kernel='poly')\n",
    "svm_classifier.fit(X_train, y_train)\n",
    "y_pred = svm_classifier.predict(X_test)\n",
    "\n",
    "print(classification_report(y_test, y_pred))"
   ]
  },
  {
   "cell_type": "code",
   "execution_count": 162,
   "metadata": {},
   "outputs": [],
   "source": [
    "def objective_SVM(trial: optuna.trial.Trial):\n",
    "    t_C = trial.suggest_float(\"C\", 0.1, 1, step=0.01)\n",
    "    t_gamma = trial.suggest_categorical(\"gamma\", [\"scale\", \"auto\"])\n",
    "    t_kernel = trial.suggest_categorical(\"kernel\", [ \"poly\", \"rbf\", \"sigmoid\"])\n",
    "\n",
    "    svm_classifier = SVC(\n",
    "        C=t_C,\n",
    "        gamma=t_gamma,\n",
    "        kernel=t_kernel,\n",
    "    ) \n",
    "    \n",
    "    svm_classifier.fit(X_train, y_train)\n",
    "    y_pred = svm_classifier.predict(X_test)\n",
    "    accuracy = accuracy_score(y_test, y_pred)\n",
    "    return accuracy"
   ]
  },
  {
   "cell_type": "code",
   "execution_count": 163,
   "metadata": {},
   "outputs": [],
   "source": [
    "storage_name = \"classification.db\"\n",
    "if os.path.exists(storage_name):\n",
    "    os.remove(storage_name)\n",
    "\n",
    "optuna.logging.set_verbosity(optuna.logging.WARNING)\n",
    "\n",
    "study = optuna.create_study(\n",
    "        storage=f\"sqlite:///{storage_name}\",\n",
    "        study_name=\"Classification\",\n",
    "        load_if_exists=False,\n",
    "        direction=\"maximize\",\n",
    ")\n",
    "\n",
    "study.optimize(func=objective_SVM, n_trials=100)"
   ]
  },
  {
   "cell_type": "code",
   "execution_count": 164,
   "metadata": {},
   "outputs": [
    {
     "name": "stdout",
     "output_type": "stream",
     "text": [
      "Best obtrained accuracy: [0.984]\n",
      "With the following parameters: {'C': 0.87, 'gamma': 'auto', 'kernel': 'poly'}\n"
     ]
    }
   ],
   "source": [
    "print(f\"Best obtrained accuracy: {study.best_trial.values}\\nWith the following parameters: {study.best_trial.params}\" )"
   ]
  },
  {
   "cell_type": "markdown",
   "metadata": {},
   "source": [
    "standardaizing doesn't imrpove, choice of kernel important, regularization and game very important explain why: "
   ]
  },
  {
   "cell_type": "markdown",
   "metadata": {},
   "source": []
  }
 ],
 "metadata": {
  "kernelspec": {
   "display_name": ".venv",
   "language": "python",
   "name": "python3"
  },
  "language_info": {
   "codemirror_mode": {
    "name": "ipython",
    "version": 3
   },
   "file_extension": ".py",
   "mimetype": "text/x-python",
   "name": "python",
   "nbconvert_exporter": "python",
   "pygments_lexer": "ipython3",
   "version": "3.12.3"
  }
 },
 "nbformat": 4,
 "nbformat_minor": 2
}
