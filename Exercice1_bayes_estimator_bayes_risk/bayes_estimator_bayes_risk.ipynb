{
 "cells": [
  {
   "cell_type": "markdown",
   "metadata": {},
   "source": [
    "## Exercice"
   ]
  },
  {
   "cell_type": "markdown",
   "metadata": {},
   "source": [
    "### Théorie"
   ]
  },
  {
   "cell_type": "markdown",
   "metadata": {},
   "source": [
    "**SCENARIO:**\n",
    "> A retail company is trying to optimize its advertising budget to predict the demand for a new product.\\\n",
    "The company invests in advertising and wants to understand how different levels of advertising expenditure\\\n",
    "affect product demand.\\\n",
    "The advertising budget XX (in thousands of dollars) is uniformly distributed between 0 and 10."
   ]
  },
  {
   "cell_type": "markdown",
   "metadata": {},
   "source": [
    "**SETTING:**"
   ]
  },
  {
   "cell_type": "markdown",
   "metadata": {},
   "source": [
    "- $ X \\in [0,10] $\n",
    "- $ Y \\in \\mathbb{R} $\n",
    "\n",
    "- $ X \\sim U[0,10] $\n",
    "- $ Y \\sim \\begin{cases} \n",
    "N(2, 1) & \\text{if } X < 3 \\\\\n",
    "N(5, 2) & \\text{if } X \\geq 3 \n",
    "\\end{cases} $\n",
    "\n",
    "- loss function: squared loss\n"
   ]
  },
  {
   "cell_type": "markdown",
   "metadata": {},
   "source": [
    "**BAYES ESTIMATOR:**\n"
   ]
  },
  {
   "cell_type": "markdown",
   "metadata": {},
   "source": [
    "The Bayes predictor $\\hat{Y}(X)$ minimizes the expected squared loss, which is the conditional expectation $E[Y∣X]$.\n",
    "\n",
    "$ Y \\sim N(\\mu, \\sigma^2) $, the mean $\\mathbb{E}[Y] = \\mu$.\n",
    "   - Therefore:\n",
    "     - For $ X < 3 $, $\\mathbb{E}[Y \\mid X < 3] = 2$.\n",
    "     - For $ X \\geq 3 $, $\\mathbb{E}[Y \\mid X \\geq 3] = 5$.\n"
   ]
  },
  {
   "cell_type": "markdown",
   "metadata": {},
   "source": [
    "**CONDITIONAL RISK:**"
   ]
  },
  {
   "cell_type": "markdown",
   "metadata": {},
   "source": [
    "- **For $ X < 3 $**:\n",
    "\n",
    "  \n",
    "  $$\n",
    "  \\begin{aligned}\n",
    "    \\mathbb{E}[l(Y, f^*(X))|X < x] &= \\mathbb{E}[(Y - f^*(X))^2 \\mid X < 3] \\\\\n",
    "    &=\\mathbb{E}[(Y - \\mathbb{E}(Y|X))^2 \\mid X < 3] \\\\\n",
    "    &=\\text{Var}(Y \\mid X < 3) = 1 \\\\\n",
    "  \\end{aligned}$$\n",
    "\n",
    "  \n",
    "  Here, $ Y \\sim N(2, 1) $, so the variance is 1.\n",
    "  \n",
    "\n",
    "- **For $ X \\geq 3 $**:\\\n",
    "  In the same manner:\n",
    "\n",
    "  $\\mathbb{E}[l(Y, f^*(X))|X \\geq x] = 2$\n",
    "\n",
    "  Here, $ Y \\sim N(5, 2) $, so the variance is 2."
   ]
  },
  {
   "cell_type": "markdown",
   "metadata": {},
   "source": [
    "**BAYES RISK:**\\\n",
    "Using the law of total expectations we have:"
   ]
  },
  {
   "cell_type": "markdown",
   "metadata": {},
   "source": [
    "$$ \n",
    "\\begin{aligned}\n",
    "    R^* &=  E_{X,Y}[l(Y, f(X))] \\\\\n",
    "    &= E(l(Y, f(X)) | X < 3)P(X < 3) + E(l(Y, f(X)) | X \\geq 3)P(X \\geq 3) \\\\\n",
    "    &= \\mathbb{E}[(Y - \\hat{Y}(X))^2 \\mid X < 3] P(X < 3) + \\mathbb{E}[(Y - \\hat{Y}(X))^2 \\mid X \\geq 3] P(X \\geq 3) \\\\\n",
    "    &= 1 * \\frac{3}{10} + 2 * \\frac{7}{10} \\\\\n",
    "    &= 1,7\n",
    "\\end{aligned}\n",
    "$$"
   ]
  },
  {
   "cell_type": "markdown",
   "metadata": {},
   "source": [
    "**Conclusion:**\n",
    "\n",
    "The bayes risk for this setting is: $1,7$"
   ]
  },
  {
   "cell_type": "markdown",
   "metadata": {},
   "source": [
    "### Code"
   ]
  }
 ],
 "metadata": {
  "kernelspec": {
   "display_name": ".venv",
   "language": "python",
   "name": "python3"
  },
  "language_info": {
   "codemirror_mode": {
    "name": "ipython",
    "version": 3
   },
   "file_extension": ".py",
   "mimetype": "text/x-python",
   "name": "python",
   "nbconvert_exporter": "python",
   "pygments_lexer": "ipython3",
   "version": "3.12.3"
  }
 },
 "nbformat": 4,
 "nbformat_minor": 2
}
