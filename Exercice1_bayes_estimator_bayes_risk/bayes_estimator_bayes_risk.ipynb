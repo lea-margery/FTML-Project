{
 "cells": [
  {
   "cell_type": "markdown",
   "metadata": {},
   "source": [
    "## Exercice"
   ]
  },
  {
   "cell_type": "markdown",
   "metadata": {},
   "source": [
    "### Théorie"
   ]
  },
  {
   "cell_type": "markdown",
   "metadata": {},
   "source": [
    "**SCENARIO:**\n",
    ">A company is trying to optimize its marketing strategy by predicting the number of units Y sold based on the amount of money in millions X invested in marketing campaigns. The company has a budget of 10 million\n",
    "\n",
    "- if the company spends less 3 millions, than the number of units sold follows a normal distribution $N(2,1)$.\n",
    "- if it spends more than 3 million, the units sold follows $N(5,2)$"
   ]
  },
  {
   "cell_type": "markdown",
   "metadata": {},
   "source": [
    "**SETTING:**"
   ]
  },
  {
   "cell_type": "markdown",
   "metadata": {},
   "source": [
    "- $ X \\in [0,10] $\n",
    "- $ Y \\in \\mathbb{R} $\n",
    "\n",
    "- $ X \\sim U[0,10] $\n",
    "- $ Y \\sim \\begin{cases} \n",
    "N(2, 1) & \\text{if } X < 3 \\\\\n",
    "N(5, 2) & \\text{if } X \\geq 3 \n",
    "\\end{cases} $\n",
    "\n",
    "- loss function: squared loss\n"
   ]
  },
  {
   "cell_type": "markdown",
   "metadata": {},
   "source": [
    "**BAYES ESTIMATOR:**\n"
   ]
  },
  {
   "cell_type": "markdown",
   "metadata": {},
   "source": [
    "The Bayes predictor $\\hat{Y}(X)$ minimizes the expected squared loss, which is the conditional expectation $E[Y∣X]$.\n",
    "\n",
    "$ Y \\sim N(\\mu, \\sigma^2) $, the mean $\\mathbb{E}[Y] = \\mu$.\n",
    "   - Therefore:\n",
    "     - For $ X < 3 $, $\\mathbb{E}[Y \\mid X < 3] = 2$.\n",
    "     - For $ X \\geq 3 $, $\\mathbb{E}[Y \\mid X \\geq 3] = 5$.\n"
   ]
  },
  {
   "cell_type": "markdown",
   "metadata": {},
   "source": [
    "**CONDITIONAL RISK:**"
   ]
  },
  {
   "cell_type": "markdown",
   "metadata": {},
   "source": [
    "- **For $ X < 3 $**:\n",
    "\n",
    "  \n",
    "  $$\n",
    "  \\begin{aligned}\n",
    "    \\mathbb{E}[l(Y, f^*(X))|X < x] &= \\mathbb{E}[(Y - f^*(X))^2 \\mid X < 3] \\\\\n",
    "    &=\\mathbb{E}[(Y - \\mathbb{E}(Y|X))^2 \\mid X < 3] \\\\\n",
    "    &=\\text{Var}(Y \\mid X < 3) = 1 \\\\\n",
    "  \\end{aligned}$$\n",
    "\n",
    "  \n",
    "  Here, $ Y \\sim N(2, 1) $, so the variance is 1.\n",
    "  \n",
    "\n",
    "- **For $ X \\geq 3 $**:\\\n",
    "  In the same manner:\n",
    "\n",
    "  $\\mathbb{E}[l(Y, f^*(X))|X \\geq x] = 2$\n",
    "\n",
    "  Here, $ Y \\sim N(5, 2) $, so the variance is 2."
   ]
  },
  {
   "cell_type": "markdown",
   "metadata": {},
   "source": [
    "**BAYES RISK:**\\\n",
    "Using the law of total expectations we have:"
   ]
  },
  {
   "cell_type": "markdown",
   "metadata": {},
   "source": [
    "$$ \n",
    "\\begin{aligned}\n",
    "    R^* &=  E_{X,Y}[l(Y, f(X))] \\\\\n",
    "    &= E(l(Y, f(X)) | X < 3)P(X < 3) + E(l(Y, f(X)) | X \\geq 3)P(X \\geq 3) \\\\\n",
    "    &= \\mathbb{E}[(Y - \\hat{Y}(X))^2 \\mid X < 3] P(X < 3) + \\mathbb{E}[(Y - \\hat{Y}(X))^2 \\mid X \\geq 3] P(X \\geq 3) \\\\\n",
    "    &= 1 * \\frac{3}{10} + 2 * \\frac{7}{10} \\\\\n",
    "    &= 1,7\n",
    "\\end{aligned}\n",
    "$$"
   ]
  },
  {
   "cell_type": "markdown",
   "metadata": {},
   "source": [
    "**Conclusion:**\n",
    "\n",
    "The bayes risk for this setting is: $1,7$"
   ]
  },
  {
   "cell_type": "markdown",
   "metadata": {},
   "source": [
    "### Code"
   ]
  },
  {
   "cell_type": "code",
   "execution_count": 3,
   "metadata": {},
   "outputs": [
    {
     "name": "stdout",
     "output_type": "stream",
     "text": [
      "Bayes Risk: 1.68\n",
      "Random Estimator Risk: 3.74\n"
     ]
    }
   ],
   "source": [
    "import numpy as np\n",
    "\n",
    "\"\"\" \n",
    "    high number of samples to apply the law of large numbers:\n",
    "    f* -> hat_f\n",
    "\"\"\"\n",
    "num_samples = 10000\n",
    "\n",
    "rng = np.random.default_rng()\n",
    "\n",
    "# create both Random Variables X and Y according to setting\n",
    "\n",
    "X = rng.uniform(0, 10, num_samples)\n",
    "Y = np.zeros(num_samples)\n",
    "for i in range(num_samples):\n",
    "    if X[i] < 3:\n",
    "        Y[i] = rng.normal(2, 1)  \n",
    "    else:\n",
    "        Y[i] = rng.normal(5, np.sqrt(2))  \n",
    "\n",
    "\n",
    "\"\"\"\n",
    "    When computing the bayes estimator\n",
    "    we want the estimator with the most probable outcome\n",
    "    in our case it corresponds to the mean of the two normal laws\n",
    "\"\"\"\n",
    "f_hat_bayes = np.where(X < 3, 2, 5)\n",
    "\n",
    "\"\"\" \n",
    "    random estimator following a normal distribution\n",
    "\"\"\"\n",
    "f_random = rng.normal(Y.mean(), np.std(Y))\n",
    "\n",
    "\"\"\"\n",
    "    calculate the square loss\n",
    "\"\"\"\n",
    "squared_loss_bayes = (Y - f_hat_bayes) ** 2\n",
    "squared_loss_random = (Y - f_random) ** 2\n",
    "\n",
    "\"\"\"\n",
    "    calculate the empirical risk bayes\n",
    "    and the risk of our random estimator\n",
    "\"\"\"\n",
    "bayes_risk = np.mean(squared_loss_bayes)\n",
    "random_risk = np.mean(squared_loss_random)\n",
    "\n",
    "print(f\"Bayes Risk: {bayes_risk:.2f}\")\n",
    "print(f\"Random Estimator Risk: {random_risk:.2f}\")\n"
   ]
  }
 ],
 "metadata": {
  "kernelspec": {
   "display_name": ".venv",
   "language": "python",
   "name": "python3"
  },
  "language_info": {
   "codemirror_mode": {
    "name": "ipython",
    "version": 3
   },
   "file_extension": ".py",
   "mimetype": "text/x-python",
   "name": "python",
   "nbconvert_exporter": "python",
   "pygments_lexer": "ipython3",
   "version": "3.12.3"
  }
 },
 "nbformat": 4,
 "nbformat_minor": 2
}
