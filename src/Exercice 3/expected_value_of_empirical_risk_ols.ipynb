{
 "cells": [
  {
   "cell_type": "markdown",
   "metadata": {},
   "source": [
    "# Question 1"
   ]
  },
  {
   "cell_type": "markdown",
   "metadata": {},
   "source": [
    "Montrons que $E[R_n(\\^\\theta)]=E_{\\epsilon}[\\frac{1}{n} ||(I_n - X(X^TX)^{-1}X^T)\\epsilon||^2_2]$"
   ]
  },
  {
   "cell_type": "markdown",
   "metadata": {},
   "source": [
    "On sait que dans le setting de l'OLS, le risque empirique s'écrit : $R_n(\\theta) = \\frac{1}{n}||y-X\\theta||^2_2$. "
   ]
  },
  {
   "cell_type": "markdown",
   "metadata": {},
   "source": [
    "On sait également que l'estimateur OLS qui minimise le risque empirique est $\\^\\theta = (X^TX)^{-1}X^Ty$"
   ]
  },
  {
   "cell_type": "markdown",
   "metadata": {},
   "source": [
    "Déterminons d'abord $R_n(\\^\\theta)$."
   ]
  },
  {
   "cell_type": "markdown",
   "metadata": {},
   "source": [
    "$$\n",
    "\\begin{aligned}\n",
    "R_n(\\^\\theta)&=\\frac{1}{n}||y-X\\^\\theta||^2_2 \\\\\n",
    "&= \\frac{1}{n} ||y - X(X^TX)^{-1}X^Ty||^2_2 \\\\\n",
    "&=\\frac{1}{n} ||(I_n - X(X^TX)^{-1}X^T)y||^2_2\n",
    "\\end{aligned}$$"
   ]
  },
  {
   "cell_type": "markdown",
   "metadata": {},
   "source": [
    "On remarque que $X(X^TX)^{-1}X^T$ est la matrice de projection orthogonale de $y$ sur l'espace engendré par les colonnes de la matrice design $X$, ces colonnes correspondent aux différentes caractéristiques de l'espace d'entrée. ."
   ]
  },
  {
   "cell_type": "markdown",
   "metadata": {},
   "source": [
    "Or on sait que $||v||_2 = \\sqrt{v_1^2 + v_2^2 + \\ldots + v_n^2} = \\sqrt{v^T v} $. Et donc, on a donc $||v||_2^2=v^T v$."
   ]
  },
  {
   "cell_type": "markdown",
   "metadata": {},
   "source": [
    "$$\n",
    "\\begin{aligned}\n",
    "R_n(\\^\\theta) &=\\frac{1}{n} ((I_n - X(X^TX)^{-1}X^T)y)^T((I_n - X(X^TX)^{-1}X^T)y)\n",
    "\\end{aligned}$$"
   ]
  },
  {
   "cell_type": "markdown",
   "metadata": {},
   "source": [
    "Notons $P = (I_n - X(X^TX)^{-1}X^T)$. Cette matrice permet d'avoir les résidus, c'est-à-dire les parties de $y$ non expliquées par les caractéristiques de $X$ On obtient alors:"
   ]
  },
  {
   "cell_type": "markdown",
   "metadata": {},
   "source": [
    "$$\n",
    "\\begin{aligned}\n",
    "R_n(\\^\\theta) &=\\frac{1}{n} (Py)^T(Py)\n",
    "\\end{aligned}$$"
   ]
  },
  {
   "cell_type": "markdown",
   "metadata": {},
   "source": [
    "Or, on assume que dans le modèle linéaire $y = X\\theta^*+\\epsilon$. On a alors:"
   ]
  },
  {
   "cell_type": "markdown",
   "metadata": {},
   "source": [
    "$$\n",
    "\\begin{aligned}\n",
    "Py &= P(X\\theta^* + \\epsilon) \\\\\n",
    "&=PX\\theta^* + P\\epsilon\n",
    "\\end{aligned}$$"
   ]
  },
  {
   "cell_type": "markdown",
   "metadata": {},
   "source": [
    "Or $PX\\theta^* = 0$ car $X\\theta^*$ est une combinaison linéaire des caractéristiques de X et n'a donc pas de résidu. On obtient donc: "
   ]
  },
  {
   "cell_type": "markdown",
   "metadata": {},
   "source": [
    "$$\n",
    "\\begin{aligned}\n",
    "Py&=P\\epsilon\n",
    "\\end{aligned}$$"
   ]
  },
  {
   "cell_type": "markdown",
   "metadata": {},
   "source": [
    "En remplaçant dans la formule du risque empirique, on a:"
   ]
  },
  {
   "cell_type": "markdown",
   "metadata": {},
   "source": [
    "$$\n",
    "\\begin{aligned}\n",
    "E[R_n(\\^\\theta)] &=E_\\epsilon[\\frac{1}{n} (P\\epsilon)^T(P\\epsilon)] \\\\\n",
    " &=E_\\epsilon[\\frac{1}{n} ((I_n - X(X^TX)^{-1}X^T)\\epsilon)^T((I_n - X(X^TX)^{-1}X^T)\\epsilon)] \\\\\n",
    " &=E_\\epsilon[\\frac{1}{n} ||(I_n - X(X^TX)^{-1}X^T)\\epsilon||^2_2]  \n",
    "\\end{aligned}$$"
   ]
  },
  {
   "cell_type": "markdown",
   "metadata": {},
   "source": [
    "# Question 2"
   ]
  },
  {
   "cell_type": "markdown",
   "metadata": {},
   "source": [
    "Soit $A \\in \\mathbb{R}^{n,n}$. Montrons que $\\sum\\limits_{(i,j) \\in [1,n]^2} A^2_{ij} = \\operatorname{tr}(A^T A)$"
   ]
  },
  {
   "cell_type": "code",
   "execution_count": null,
   "metadata": {
    "vscode": {
     "languageId": "plaintext"
    }
   },
   "outputs": [],
   "source": []
  }
 ],
 "metadata": {
  "language_info": {
   "name": "python"
  }
 },
 "nbformat": 4,
 "nbformat_minor": 2
}
