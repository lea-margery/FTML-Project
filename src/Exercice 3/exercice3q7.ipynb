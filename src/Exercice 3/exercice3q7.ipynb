{
 "cells": [
  {
   "cell_type": "code",
   "execution_count": 5,
   "metadata": {},
   "outputs": [],
   "source": [
    "import numpy as np"
   ]
  },
  {
   "cell_type": "code",
   "execution_count": 10,
   "metadata": {},
   "outputs": [],
   "source": [
    "n = 1000\n",
    "d = 20\n",
    "sigma = 3\n",
    "n_tests = 100"
   ]
  },
  {
   "cell_type": "code",
   "execution_count": 11,
   "metadata": {},
   "outputs": [
    {
     "data": {
      "text/plain": [
       "9.092729299571362"
      ]
     },
     "execution_count": 11,
     "metadata": {},
     "output_type": "execute_result"
    }
   ],
   "source": [
    "rng = np.random.default_rng()\n",
    "\n",
    "X = rng.uniform(low=0, high=1, size=(n, d))\n",
    "\n",
    "\n",
    "theta_star = rng.uniform(low=0, high=1, size=(d, 1))\n",
    "\n",
    "\n",
    "n = X.shape[0]\n",
    "noise = rng.normal(0, sigma, size=(n, n_tests))\n",
    "y_train = X @ theta_star + noise\n",
    "\n",
    "covariance_matrix = X.T @ X\n",
    "inverse_covariance = np.linalg.inv(covariance_matrix)\n",
    "theta_hat = inverse_covariance @ (X.T @ y_train)\n",
    "\n",
    "\n",
    "n = X.shape[0]\n",
    "noise = rng.normal(0, sigma, size=(n, n_tests))\n",
    "y_test = X @ theta_star + noise\n",
    "\n",
    "\n",
    "y_pred = X @ theta_hat\n",
    "\n",
    "mean_test_error = np.linalg.norm(y_pred - y_test) ** 2 / (n * n_tests)\n",
    "\n",
    "mean_test_error"
   ]
  }
 ],
 "metadata": {
  "kernelspec": {
   "display_name": ".venv",
   "language": "python",
   "name": "python3"
  },
  "language_info": {
   "codemirror_mode": {
    "name": "ipython",
    "version": 3
   },
   "file_extension": ".py",
   "mimetype": "text/x-python",
   "name": "python",
   "nbconvert_exporter": "python",
   "pygments_lexer": "ipython3",
   "version": "3.12.3"
  }
 },
 "nbformat": 4,
 "nbformat_minor": 2
}
