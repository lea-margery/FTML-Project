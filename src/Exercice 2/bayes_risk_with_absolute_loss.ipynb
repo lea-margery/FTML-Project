{
 "cells": [
  {
   "cell_type": "markdown",
   "metadata": {},
   "source": [
    "# Question 0"
   ]
  },
  {
   "cell_type": "markdown",
   "metadata": {},
   "source": [
    "Soit $\n",
    "f(x) : \\begin{cases}\n",
    "\\mathbb{R} \\longrightarrow \\mathbb{R} \\\\\n",
    "x \\mapsto x^3\n",
    "\\end{cases}\n",
    "$, on a donc $f'(x) = 3x^2$. Tout d'abord, résolvons $f'(x) = 0$"
   ]
  },
  {
   "cell_type": "markdown",
   "metadata": {},
   "source": [
    "$$f'(x) = 0 \\Leftrightarrow 3x^2 = 0 \\Leftrightarrow x = 0$$"
   ]
  },
  {
   "cell_type": "markdown",
   "metadata": {},
   "source": [
    "Notons $x_0$ = 0, le point en lequel la dérivée de la fonction $f$ s'annule. À présent, déterminons si le point $x_0$ est un extremum local de la fonction $f$. "
   ]
  },
  {
   "cell_type": "markdown",
   "metadata": {},
   "source": [
    "Or $\\forall x \\in \\mathbb{R}, f'(x) \\ge 0$, celle-ci ne change donc pas de signe en $x_0$. Donc le point $f(x_0)$ ne s'agit donc par d'un extremum local de la fonction $f$."
   ]
  },
  {
   "cell_type": "markdown",
   "metadata": {},
   "source": [
    "Pour conclure, la fonction $f$ admet bien un point $x_0$ en lequel la dérivée $f'(x)$ s'annule. De plus $f(x_0)$ c'est pas un extremum local de cette fonction."
   ]
  },
  {
   "cell_type": "markdown",
   "metadata": {},
   "source": [
    "# Question 1"
   ]
  },
  {
   "cell_type": "markdown",
   "metadata": {},
   "source": [
    "## les choix de distribution\n",
    "Distribution de X: $X \\leadsto N(0,1)$\n",
    "Distribution de Y: \n",
    "- if $X \\ge 0$: $Y \\leadsto Exp(1)$\n",
    "- if $X \\lt 0$: $Y \\leadsto Exp(2)$\n",
    "\n",
    "\n",
    "### Les estimateurs\n",
    "\n",
    "1. **Squared Loss:**\n",
    "\t- L'estimateurs de Bayes pour la Loss carré est la moyenne conditionnel.\n",
    "\t- $Y \\leadsto Exp(\\lambda)$ et la moyenne d'une distribution exponentiel est $\\frac 1 {\\lambda}$ donc : \n",
    "\t$$\n",
    "     f^*_{l_{\\text{squared}}}(x) = \n",
    "     \\begin{cases} \n",
    "     1 & \\text{if } x \\geq 0 \\\\ \n",
    "     0.5 & \\text{if } x < 0 \n",
    "     \\end{cases}\n",
    "    $$\n",
    "\n",
    "2. **Absolute Loss:**\n",
    "\t- L'estimateurs de Bayes pour la Loss absolue est la median conditionnel.\n",
    "\t- $Y \\leadsto Exp(\\lambda)$ et la median d'une distribution exponentiel est $\\frac {ln(2)} {\\lambda}$ donc : \n",
    "$$\n",
    "     f^*_{l_{\\text{absolute}}}(x) = \n",
    "     \\begin{cases} \n",
    "     \\ln(2) & \\text{if } x \\geq 0 \\\\ \n",
    "     \\frac{\\ln(2)}{2} & \\text{if } x < 0 \n",
    "     \\end{cases}\n",
    "$$\n",
    "\n",
    "### Calculating the Risks\n",
    "\n",
    "#### 1. Risk for Squared Loss Predictor\n",
    "The risk for the squared loss predictor is the expected value of the squared loss:\n",
    "**Case 1: $X\\ge 0$**:\n",
    "$$ \n",
    "\\begin{aligned}\n",
    "R_{l_{\\text{squared}}}(f^*_{l_{\\text{squared}}}) &= \\mathbb{E}\\left[(Y - f^*_{l_{\\text{squared}}}(X))^2\\right] \\\\\n",
    "&=\\mathbb{E}[(Y - 1)^2] \\\\\n",
    "&= \\mathbb{E}[Y^2 - 2Y + 1] \\\\\n",
    "&= \\mathbb{E}[Y^2] - 2\\mathbb{E}[Y] + 1\\\\\n",
    "&= \\mathbb{E}[Y]^2 + Vae(Y) - 2\\mathbb{E}[Y] + 1\\\\\n",
    "&= 1 + 1 - 2 * 1 + 1\\\\\n",
    "&= 1\\\\\n",
    "\\end{aligned}\n",
    "$$\n",
    "**Case 2: $X\\lt 0$**:\n",
    "$$ \n",
    "\\begin{aligned}\n",
    "R_{l_{\\text{squared}}}(f^*_{l_{\\text{squared}}}) &= \\mathbb{E}\\left[(Y - f^*_{l_{\\text{squared}}}(X))^2\\right] \\\\\n",
    "&=\\mathbb{E}[(Y - 0.5)^2] \\\\\n",
    "&= \\mathbb{E}[Y^2 - Y + 0.25] \\\\\n",
    "&= \\mathbb{E}[Y^2] - \\mathbb{E}[Y] + 0.25\\\\\n",
    "&= \\mathbb{E}[Y]^2 + Var(Y) - \\mathbb{E}[Y] + 0.25\\\\\n",
    "&= 0.25 + 0.25 - 0.5 + 0.25\\\\\n",
    "&= 0.25\\\\\n",
    "\\end{aligned}\n",
    "$$\n",
    "\n",
    "**En combinant les deux on à**:\n",
    "$$\n",
    "\\begin{aligned}\n",
    "R_{l_{\\text{squared}}}(f^*_{l_{\\text{squared}}}) \n",
    "&= \\mathbb P(X \\ge 0) * \\mathbb{E}\\left[(Y - 1)^2| X \\ge 0\\right] \n",
    "+  \\mathbb P(X \\lt 0) * \\mathbb{E}\\left[(Y - 0.5)^2| X \\lt 0\\right]\\\\\n",
    "&= 0.5 * 1 + 0.5 * 0.25 = 0.625\\\\\n",
    "\\end{aligned}\n",
    "$$\n",
    "\n",
    "#### 2. Risk for Absolute Loss Predictor\n",
    "The risk for the absolute loss predictor is the expected value of the absolute loss:\n",
    "**Case 1: $X\\ge 0$**:\n",
    "$$ \n",
    "\\begin{aligned}\n",
    "R_{l_{\\text{absolute}}}(f^*_{l_{\\text{absolute}}}) &= \\mathbb{E}\\left[ \\mid Y - f^*_{l_{\\text{absolute}}}(X) \\mid \\right] \\\\\n",
    "&= \\mathbb{E}[ \\mid Y - Med(Y) \\mid ] \\\\\n",
    "&= \\mathbb{E}[ \\mid Y - \\frac {ln(2)} \\lambda \\mid ] \\\\\n",
    "&= \\mathbb{E}[ \\mid Y - ln(2) \\mid ] \\\\\n",
    "&= \\int_0^{+\\infty} \\mid y-ln(2)  \\mid  e^{-y}dy\\\\\n",
    "\\end{aligned}\n",
    "$$\n",
    "**Case 2: $X\\lt 0$**:\n",
    "$$ \n",
    "\\begin{aligned}\n",
    "R_{l_{\\text{absolute}}}(f^*_{l_{\\text{absolute}}}) &= \\mathbb{E}\\left[ \\mid Y - f^*_{l_{\\text{absolute}}}(X) \\mid \\right] \\\\\n",
    "&= \\mathbb{E}[ \\mid Y - Med(Y) \\mid ] \\\\\n",
    "&= \\mathbb{E}[ \\mid Y - \\frac {ln(2)} \\lambda \\mid ] \\\\\n",
    "&= \\mathbb{E}[ \\mid Y - \\frac {ln(2)} 2 \\mid ] \\\\\n",
    "&= \\int_0^{+\\infty} \\mid y- \\frac {ln(2)} 2  \\mid  2e^{-2y}dy\\\\\n",
    "\\end{aligned}\n",
    "$$\n",
    "\n",
    "\n",
    "**En combinant les deux on à**:\n",
    "$$\n",
    "\\begin{aligned}\n",
    "R_{l_{\\text{absolute}}}(f^*_{l_{\\text{absolute}}}) \n",
    "&= \\mathbb P(X \\ge 0) * \\mathbb{E}\\left[\\mid Y - ln(2)\\mid | X \\ge 0\\right] \n",
    "+  \\mathbb P(X \\lt 0) * \\mathbb{E}\\left[\\mid Y - \\frac {ln(2)} 2\\mid | X \\lt 0\\right]\\\\\n",
    "&= 0.5 *\\mathbb{E}\\left[\\mid Y - ln(2)\\mid | X \\ge 0\\right] + 0.5  * \\mathbb{E}\\left[\\mid Y - \\frac {ln(2)} 2\\mid | X \\lt 0\\right]\\\\\n",
    "\\end{aligned}\n",
    "$$\n"
   ]
  },
  {
   "cell_type": "markdown",
   "metadata": {},
   "source": [
    "# Question 2"
   ]
  },
  {
   "cell_type": "markdown",
   "metadata": {},
   "source": [
    "Déterminons le prédicteur Bayésien qui utilise la fonction de perte valeur absolue $f^*_{\\text absolute}(x)$. Sachant que:"
   ]
  },
  {
   "cell_type": "markdown",
   "metadata": {},
   "source": [
    "$$f^*_{\\text absolute}(x) = \\argmin_{z \\in \\mathbb{R}} E[|y-z||X=x]$$\n",
    "$$=\\argmin_{z \\in \\mathbb{R}} \\int_{y \\in \\mathbb{R}}|y-z|p_{Y|X=x}(y)dy$$"
   ]
  },
  {
   "cell_type": "markdown",
   "metadata": {},
   "source": [
    "On note $g(z)=\\int_{y \\in \\mathbb{R}}|y-z|p_{Y|X=x}(y)dy$. En séparant la valeur absolue en deux intégrales, nous obtenons:"
   ]
  },
  {
   "cell_type": "markdown",
   "metadata": {},
   "source": [
    "$$g(z)=\\int_{-\\infty}^{z} (z-y)p_{Y|X=x}(y)dy + \\int_{z}^{+\\infty}(y-z)p_{Y|X=x}(y)dy$$"
   ]
  },
  {
   "cell_type": "markdown",
   "metadata": {},
   "source": [
    "$$=z\\int_{-\\infty}^{z} p_{Y|X=x}(y)dy - \\int_{-\\infty}^{z} yp_{Y|X=x}(y)dy+ \\int_{z}^{+\\infty}yp_{Y|X=x}(y)dy -z\\int_{z}^{+\\infty}p_{Y|X=x}(y)dy$$"
   ]
  },
  {
   "cell_type": "markdown",
   "metadata": {},
   "source": [
    "Afin de déterminer $f^*_{\\text absolute}(x) = \\argmin_{z\\in \\mathbb{R}} g(z)$, nous voulons résoudre $g'(z)=0$. Tout d'abord, déterminons la dérivée de la fonction $g$ en fonction de $z$."
   ]
  },
  {
   "cell_type": "markdown",
   "metadata": {},
   "source": [
    "$$g'(z)=\\int_{-\\infty}^{z} p_{Y|X=x}(y)dy -\\int_{z}^{+\\infty}p_{Y|X=x}(y)dy$$"
   ]
  },
  {
   "cell_type": "markdown",
   "metadata": {},
   "source": [
    "Résolvons $g'(z) =0$."
   ]
  },
  {
   "cell_type": "markdown",
   "metadata": {},
   "source": [
    "$$g'(z) =0 \\Leftrightarrow \\int_{-\\infty}^{z} p_{Y|X=x}(y)dy -\\int_{z}^{+\\infty}p_{Y|X=x}(y)dy = 0 $$"
   ]
  },
  {
   "cell_type": "markdown",
   "metadata": {},
   "source": [
    "$$\\Leftrightarrow \\int_{-\\infty}^{z} p_{Y|X=x}(y)dy = \\int_{z}^{+\\infty}p_{Y|X=x}(y)dy$$"
   ]
  },
  {
   "cell_type": "markdown",
   "metadata": {},
   "source": [
    "Cela implique que la probabilité conditionnelle $P(Y|X=x)$ jusqu'à $z$ est égale à cette probabilité au-delà de $z$. Or, nous savons que cela correspond exactement à la définition de la médiane. \n",
    "\n",
    "Nous pouvons donc conclure que le prédicteur Bayésien avec la fonction de perte valeur absolue est:"
   ]
  },
  {
   "cell_type": "markdown",
   "metadata": {},
   "source": [
    "$$f^*_{\\text absolute}(x) = médiane(Y|X=x) $$"
   ]
  }
 ],
 "metadata": {
  "kernelspec": {
   "display_name": "Python 3 (ipykernel)",
   "language": "python",
   "name": "python3"
  },
  "language_info": {
   "codemirror_mode": {
    "name": "ipython",
    "version": 3
   },
   "file_extension": ".py",
   "mimetype": "text/x-python",
   "name": "python",
   "nbconvert_exporter": "python",
   "pygments_lexer": "ipython3",
   "version": "3.10.11"
  }
 },
 "nbformat": 4,
 "nbformat_minor": 4
}
