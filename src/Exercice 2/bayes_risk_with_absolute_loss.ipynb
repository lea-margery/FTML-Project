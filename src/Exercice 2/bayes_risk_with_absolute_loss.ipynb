{
 "cells": [
  {
   "cell_type": "markdown",
   "metadata": {},
   "source": [
    "# Question 0"
   ]
  },
  {
   "cell_type": "markdown",
   "metadata": {},
   "source": [
    "Soit $\n",
    "f(x) : \\begin{cases}\n",
    "\\mathbb{R} \\longrightarrow \\mathbb{R} \\\\\n",
    "x \\mapsto x^3\n",
    "\\end{cases}\n",
    "$, on a donc $f'(x) = 3x^2$. Tout d'abord, résolvons $f'(x) = 0$"
   ]
  },
  {
   "cell_type": "markdown",
   "metadata": {},
   "source": [
    "$$f'(x) = 0 \\Leftrightarrow 3x^2 = 0 \\Leftrightarrow x = 0$$"
   ]
  },
  {
   "cell_type": "markdown",
   "metadata": {},
   "source": [
    "Notons $x_0$ = 0, le point en lequel la dérivée de la fonction $f$ s'annule. À présent, déterminons si le point $x_0$ est un extremum local de la fonction $f$. "
   ]
  },
  {
   "cell_type": "markdown",
   "metadata": {},
   "source": [
    "Or $\\forall x \\in \\mathbb{R}, f'(x) \\ge 0$, celle-ci ne change donc pas de signe en $x_0$. Donc le point $f(x_0)$ ne s'agit donc par d'un extremum local de la fonction $f$."
   ]
  },
  {
   "cell_type": "markdown",
   "metadata": {},
   "source": [
    "Pour conclure, la fonction $f$ admet bien un point $x_0$ en lequel la dérivée $f'(x)$ s'annule. De plus $f(x_0)$ c'est pas un extremum local de cette fonction."
   ]
  },
  {
   "cell_type": "markdown",
   "metadata": {},
   "source": [
    "# Question 1"
   ]
  },
  {
   "cell_type": "markdown",
   "metadata": {},
   "source": [
    "Il faut choisir une distribution asymétrique et s'assurer que les calculateurs de médiane et de moyenne produisent des valeurs différentes, influençant ainsi les risques associés.\n",
    "\n",
    "## Proposition d'une situation où $f^*_{L_{absolute}} \\ne f^*_{L{squared}}$\n",
    "\n",
    "### Considérons une distribution asymétrique pour Y\n",
    "\n",
    "Utilisons une distribution log-normale pour modéliser Y. La distribution log-normale est asymétrique et la moyenne et la médiane ne coïncident pas.\n",
    "\n",
    "1. **Définition de l'estimateur h** :\n",
    "    - Supposons que h(x) soit la médiane de Y. La médiane minimise naturellement la perte absolue.\n",
    "2. **Calcul des risques associés** :\n",
    "    - **Risque pour la perte absolue avec h** : La médiane minimise la perte absolue.\n",
    "    - **Risque pour la perte absolue avec $f^*_{L{squared}} \\: f^*_{L{squared}}(x) = E[Y| X = x]$**. Pour une distribution log-normale, la moyenne et la médiane sont différentes, ce qui devrait montrer des différences dans les risques calculés."
   ]
  },
  {
   "cell_type": "markdown",
   "metadata": {},
   "source": [
    "### Simulation"
   ]
  },
  {
   "cell_type": "code",
   "execution_count": 3,
   "metadata": {},
   "outputs": [
    {
     "name": "stdout",
     "output_type": "stream",
     "text": [
      "R_L_absolute(h): 8.71964977920684\n",
      "R_L_absolute(f_L_squared_star): 9.915588354803303\n"
     ]
    }
   ],
   "source": [
    "import numpy as np\n",
    "\n",
    "np.random.seed(0)\n",
    "x = np.linspace(0, 10, 100)\n",
    "y = np.random.lognormal(mean=2.0, sigma=1.0, size=100)\n",
    "\n",
    "h = np.median(y)\n",
    "\n",
    "R_L_absolute_h = np.mean(np.abs(y - h))\n",
    "\n",
    "f_L_squared_star = np.mean(y)\n",
    "\n",
    "R_L_absolute_f_L_squared = np.mean(np.abs(y - f_L_squared_star))\n",
    "\n",
    "print(\"R_L_absolute(h):\", R_L_absolute_h)\n",
    "print(\"R_L_absolute(f_L_squared_star):\", R_L_absolute_f_L_squared)\n"
   ]
  },
  {
   "cell_type": "markdown",
   "metadata": {},
   "source": [
    "# Question 2"
   ]
  },
  {
   "cell_type": "markdown",
   "metadata": {},
   "source": [
    "Déterminons le prédicteur Bayésien qui utilise la fonction de perte valeur absolue $f^*_{\\text absolute}(x)$. Sachant que:"
   ]
  },
  {
   "cell_type": "markdown",
   "metadata": {},
   "source": [
    "$$f^*_{\\text absolute}(x) = \\argmin_{z \\in \\mathbb{R}} E[|y-z||X=x]$$\n",
    "$$=\\argmin_{z \\in \\mathbb{R}} \\int_{y \\in \\mathbb{R}}|y-z|p_{Y|X=x}(y)dy$$"
   ]
  },
  {
   "cell_type": "markdown",
   "metadata": {},
   "source": [
    "On note $g(z)=\\int_{y \\in \\mathbb{R}}|y-z|p_{Y|X=x}(y)dy$. En séparant la valeur absolue en deux intégrales, nous obtenons:"
   ]
  },
  {
   "cell_type": "markdown",
   "metadata": {},
   "source": [
    "$$g(z)=\\int_{-\\infty}^{z} (z-y)p_{Y|X=x}(y)dy + \\int_{z}^{+\\infty}(y-z)p_{Y|X=x}(y)dy$$"
   ]
  },
  {
   "cell_type": "markdown",
   "metadata": {},
   "source": [
    "$$=z\\int_{-\\infty}^{z} p_{Y|X=x}(y)dy - \\int_{-\\infty}^{z} yp_{Y|X=x}(y)dy+ \\int_{z}^{+\\infty}yp_{Y|X=x}(y)dy -z\\int_{z}^{+\\infty}p_{Y|X=x}(y)dy$$"
   ]
  },
  {
   "cell_type": "markdown",
   "metadata": {},
   "source": [
    "Afin de déterminer $f^*_{\\text absolute}(x) = \\argmin_{z\\in \\mathbb{R}} g(z)$, nous voulons résoudre $g'(z)=0$. Tout d'abord, déterminons la dérivée de la fonction $g$ en fonction de $z$."
   ]
  },
  {
   "cell_type": "markdown",
   "metadata": {},
   "source": [
    "$$g'(z)=\\int_{-\\infty}^{z} p_{Y|X=x}(y)dy -\\int_{z}^{+\\infty}p_{Y|X=x}(y)dy$$"
   ]
  },
  {
   "cell_type": "markdown",
   "metadata": {},
   "source": [
    "Résolvons $g'(z) =0$."
   ]
  },
  {
   "cell_type": "markdown",
   "metadata": {},
   "source": [
    "$$g'(z) =0 \\Leftrightarrow \\int_{-\\infty}^{z} p_{Y|X=x}(y)dy -\\int_{z}^{+\\infty}p_{Y|X=x}(y)dy = 0 $$"
   ]
  },
  {
   "cell_type": "markdown",
   "metadata": {},
   "source": [
    "$$\\Leftrightarrow \\int_{-\\infty}^{z} p_{Y|X=x}(y)dy = \\int_{z}^{+\\infty}p_{Y|X=x}(y)dy$$"
   ]
  },
  {
   "cell_type": "markdown",
   "metadata": {},
   "source": [
    "Cela implique que la probabilité conditionnelle $P(Y|X=x)$ jusqu'à $z$ est égale à cette probabilité au-delà de $z$. Or, nous savons que cela correspond exactement à la définition de la médiane. \n",
    "\n",
    "Nous pouvons donc conclure que le prédicteur Bayésien avec la fonction de perte valeur absolue est:"
   ]
  },
  {
   "cell_type": "markdown",
   "metadata": {},
   "source": [
    "$$f^*_{\\text absolute}(x) = médiane(Y|X=x) $$"
   ]
  }
 ],
 "metadata": {
  "kernelspec": {
   "display_name": "Python 3 (ipykernel)",
   "language": "python",
   "name": "python3"
  },
  "language_info": {
   "codemirror_mode": {
    "name": "ipython",
    "version": 3
   },
   "file_extension": ".py",
   "mimetype": "text/x-python",
   "name": "python",
   "nbconvert_exporter": "python",
   "pygments_lexer": "ipython3",
   "version": "3.10.11"
  }
 },
 "nbformat": 4,
 "nbformat_minor": 4
}
