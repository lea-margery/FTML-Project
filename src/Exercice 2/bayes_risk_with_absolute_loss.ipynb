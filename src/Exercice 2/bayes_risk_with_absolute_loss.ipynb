{
 "cells": [
  {
   "cell_type": "markdown",
   "metadata": {},
   "source": [
    "# Question 0"
   ]
  },
  {
   "cell_type": "markdown",
   "metadata": {},
   "source": []
  },
  {
   "cell_type": "markdown",
   "metadata": {},
   "source": [
    "# Question 1"
   ]
  },
  {
   "cell_type": "markdown",
   "metadata": {},
   "source": [
    "# Question 2"
   ]
  },
  {
   "cell_type": "markdown",
   "metadata": {},
   "source": [
    "Déterminons le prédicteur Bayésien qui utilise la fonction de perte valeur absolue $f^*_{\\text absolute}(x)$. Sachant que:"
   ]
  },
  {
   "cell_type": "markdown",
   "metadata": {},
   "source": [
    "$$f^*_{\\text absolute}(x) = \\argmin_{z \\in \\mathbb{R}} E[|y-z||X=x]$$\n",
    "$$=\\argmin_{z \\in \\mathbb{R}} \\int_{y \\in \\mathbb{R}}|y-z|p_{Y|X=x}(y)dy$$"
   ]
  },
  {
   "cell_type": "markdown",
   "metadata": {},
   "source": [
    "On note $g(z)=\\int_{y \\in \\mathbb{R}}|y-z|p_{Y|X=x}(y)dy$. En séparant la valeur absolue en deux intégrales, nous obtenons:"
   ]
  },
  {
   "cell_type": "markdown",
   "metadata": {},
   "source": [
    "$$g(z)=\\int_{-\\infty}^{z} (z-y)p_{Y|X=x}(y)dy + \\int_{z}^{+\\infty}(y-z)p_{Y|X=x}(y)dy$$"
   ]
  },
  {
   "cell_type": "markdown",
   "metadata": {},
   "source": [
    "$$=z\\int_{-\\infty}^{z} p_{Y|X=x}(y)dy - \\int_{-\\infty}^{z} yp_{Y|X=x}(y)dy+ \\int_{z}^{+\\infty}yp_{Y|X=x}(y)dy -z\\int_{z}^{+\\infty}p_{Y|X=x}(y)dy$$"
   ]
  },
  {
   "cell_type": "markdown",
   "metadata": {},
   "source": [
    "Afin de déterminer $f^*_{\\text absolute}(x) = \\argmin_{z\\in \\mathbb{R}} g(z)$, nous voulons résoudre $g'(z)=0$. Tout d'abord, déterminons la dérivée de la fonction $g$ en fonction de $z$."
   ]
  },
  {
   "cell_type": "markdown",
   "metadata": {},
   "source": [
    "$$g'(z)=\\int_{-\\infty}^{z} p_{Y|X=x}(y)dy -\\int_{z}^{+\\infty}p_{Y|X=x}(y)dy$$"
   ]
  },
  {
   "cell_type": "markdown",
   "metadata": {},
   "source": [
    "Résolvons $g'(z) =0$."
   ]
  },
  {
   "cell_type": "markdown",
   "metadata": {},
   "source": [
    "$$g'(z) =0 \\Leftrightarrow \\int_{-\\infty}^{z} p_{Y|X=x}(y)dy -\\int_{z}^{+\\infty}p_{Y|X=x}(y)dy = 0 $$"
   ]
  },
  {
   "cell_type": "markdown",
   "metadata": {},
   "source": [
    "$$\\Leftrightarrow \\int_{-\\infty}^{z} p_{Y|X=x}(y)dy = \\int_{z}^{+\\infty}p_{Y|X=x}(y)dy$$"
   ]
  },
  {
   "cell_type": "markdown",
   "metadata": {},
   "source": [
    "Cela implique que la probabilité conditionnelle $P(Y|X=x)$ jusqu'à $z$ est égale à cette probabilité au-delà de $z$. Or, nous savons que cela correspond exactement à la définition de la médiane. \n",
    "\n",
    "Nous pouvons donc conclure que le prédicteur Bayésien avec la fonction de perte valeur absolue est:"
   ]
  },
  {
   "cell_type": "markdown",
   "metadata": {},
   "source": [
    "$$f^*_{\\text absolute}(x) = médiane(Y|X=x) $$"
   ]
  }
 ],
 "metadata": {
  "kernelspec": {
   "display_name": ".venv",
   "language": "python",
   "name": "python3"
  },
  "language_info": {
   "codemirror_mode": {
    "name": "ipython",
    "version": 3
   },
   "file_extension": ".py",
   "mimetype": "text/x-python",
   "name": "python",
   "nbconvert_exporter": "python",
   "pygments_lexer": "ipython3",
   "version": "3.11.2"
  }
 },
 "nbformat": 4,
 "nbformat_minor": 2
}
